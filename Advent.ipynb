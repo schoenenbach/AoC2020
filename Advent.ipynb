{
 "cells": [
  {
   "cell_type": "markdown",
   "metadata": {},
   "source": [
    "## Day 1"
   ]
  },
  {
   "cell_type": "code",
   "execution_count": 24,
   "metadata": {},
   "outputs": [
    {
     "name": "stdout",
     "output_type": "stream",
     "text": [
      "[1619, 1919, 1441, 1861, 1932, 1514, 1847, 1871, 1764, 1467, 1970, 1589, 2009, 1429, 1098, 1327, 1502, 1398, 1710, 1562, 1512, 1468, 1762, 1348, 1356, 1950, 1266, 1969, 1815, 1583, 1959, 1092, 1694, 1814, 1763, 1151, 1981, 1193, 1614, 1413, 1642, 1943, 1407, 895, 1430, 1706, 1962, 1522, 1486, 1986, 1623, 1489, 1411, 1851, 1817, 1416, 1654, 1438, 1419, 1649, 1362, 690, 1804, 1452, 1766, 1360, 1807, 1385, 1964, 1626, 1832, 745, 1702, 1602, 1471, 1996, 1915, 1813, 1460, 1925, 1638, 1581, 1584, 1379, 1148, 1554, 1564, 1914, 1757, 1820, 1559, 1096, 1944, 1587, 1499, 390, 1733, 1371, 1781, 2002, 324, 1655, 1639, 1482, 1198, 1264, 1953, 1320, 1704, 1321, 1449, 1455, 1509, 1765, 1797, 1703, 1758, 1610, 1756, 1901, 1707, 1968, 1601, 1328, 1336, 1592, 1678, 1699, 1793, 1957, 2000, 1306, 1094, 1545, 1331, 1751, 1739, 1335, 1753, 1983, 1966, 1934, 1831, 1426, 1711, 1840, 1857, 1347, 1789, 1409, 1310, 1752, 1897, 1497, 1485, 1125, 1803, 1577, 919, 1635, 1791, 1456, 1796, 1974, 1954, 1828, 2004, 1890, 1376, 1569, 1406, 1463, 2006, 1109, 1620, 1656, 1870, 1498, 1645, 1145, 1681, 1269, 1527, 1621, 1575, 1324, 1647, 1519, 1697, 1421, 1216, 1846, 1625, 1585, 1369, 1882, 1823, 1388, 1548, 1879]\n",
      "buh\n",
      "895\n",
      "buh\n",
      "1125\n",
      "part2\n",
      "yeah\n",
      "390 714 2020\n",
      "yeah\n",
      "390 1696 2020\n",
      "yeah\n",
      "324 714 2020\n",
      "yeah\n",
      "324 1630 2020\n",
      "yeah\n",
      "1306 1696 2020\n",
      "yeah\n",
      "1306 1630 2020\n",
      "165026160\n"
     ]
    }
   ],
   "source": [
    "numbers = []\n",
    "\n",
    "file = open(\"./input\")\n",
    "lines = file.read().split('\\n')\n",
    "file.close()\n",
    "\n",
    "numbers = [int(i) for i in lines]\n",
    "print(numbers)\n",
    "\n",
    "\n",
    "for num1 in numbers:\n",
    "    numbers2 = [num1+num for num in numbers]\n",
    "    for i in numbers2:\n",
    "        if i==2020:\n",
    "            print('buh')\n",
    "            print(num1)\n",
    "\n",
    "print(\"part2\")\n",
    "\n",
    "for num1 in numbers:\n",
    "    numbers2 = [num1+numA for numA in numbers]\n",
    "    for num2 in numbers2:\n",
    "        if num2 <= 2020:\n",
    "            numbers3 = [num2+numB for numB in numbers]\n",
    "            for num3 in numbers3:\n",
    "                if num3==2020:\n",
    "                    print('yeah')\n",
    "                    print(num1,num2,num3)\n",
    "\n",
    "result2= 390*324*1306\n",
    "print(result2)"
   ]
  },
  {
   "cell_type": "markdown",
   "metadata": {},
   "source": [
    "## Day 2"
   ]
  },
  {
   "cell_type": "code",
   "execution_count": 45,
   "metadata": {},
   "outputs": [
    {
     "name": "stdout",
     "output_type": "stream",
     "text": [
      "414\n",
      "part2\n",
      "413\n"
     ]
    }
   ],
   "source": [
    "file = open(\"./input_day2\")\n",
    "lines2 = file.read().split('\\n')\n",
    "file.close()\n",
    "\n",
    "counter = 0\n",
    "\n",
    "for line in lines2:\n",
    "    x = line.split(\" \")\n",
    "    bounds = x[0].split(\"-\")\n",
    "    char = x[1][0]\n",
    "    password = x[2]\n",
    "    if (password.count(char) >= int(bounds[0]) and password.count(char) <= int(bounds[1])):\n",
    "        counter+=1\n",
    "        \n",
    "print(counter)\n",
    "print(\"part2\")\n",
    "counter2 = 0\n",
    "\n",
    "for line in lines2:\n",
    "    x = line.split(\" \")\n",
    "    positions = x[0].split(\"-\")\n",
    "    char = x[1][0]\n",
    "    password = x[2]\n",
    "    if (password[int(positions[0])-1] == char) ^ ((password[int(bounds[1])-1] == char)):\n",
    "        counter2+=1\n",
    "        \n",
    "print(counter2)"
   ]
  },
  {
   "cell_type": "markdown",
   "metadata": {},
   "source": [
    "## Day 3"
   ]
  },
  {
   "cell_type": "code",
   "execution_count": 115,
   "metadata": {},
   "outputs": [
    {
     "name": "stdout",
     "output_type": "stream",
     "text": [
      "part 1\n",
      "Trees hit: 225\n",
      "------------------\n",
      "part2\n",
      "Multiple: 1115775000\n"
     ]
    }
   ],
   "source": [
    "file = open(\"./input_day3\")\n",
    "lines3 = file.read().split('\\n')\n",
    "file.close()\n",
    "slope = {'steps_right' : 3, 'steps_down' : 1}\n",
    "\n",
    "def get_encounters(slope):\n",
    "    pos={'x' : 0, 'y':0}\n",
    "    treecounter = 0\n",
    "    for line in lines3:\n",
    "        if pos['x'] <= len(lines3):\n",
    "            encounter = lines3[pos['x']][pos['y']%31]\n",
    "        else:\n",
    "            break\n",
    "        if encounter == '#':\n",
    "            treecounter +=1\n",
    "        pos['x'] += slope['steps_down']\n",
    "        pos['y'] += slope['steps_right']\n",
    "    return treecounter\n",
    "\n",
    "print(\"part 1\")\n",
    "\n",
    "print('Trees hit: %i' %get_encounters(slope))\n",
    "\n",
    "print('------------------')\n",
    "print('part2')\n",
    "\n",
    "slopes = [\n",
    "    {'steps_right': 1, 'steps_down':1},\n",
    "    {'steps_right': 3, 'steps_down':1},\n",
    "    {'steps_right': 5, 'steps_down':1},\n",
    "    {'steps_right': 7, 'steps_down':1},\n",
    "    {'steps_right': 1, 'steps_down':2}\n",
    "]\n",
    "\n",
    "number = 1\n",
    "for slope in slopes:\n",
    "    number *= get_encounters(slope)\n",
    "\n",
    "print('Multiple: %i' %number)    "
   ]
  },
  {
   "cell_type": "markdown",
   "metadata": {},
   "source": [
    "## Day 4"
   ]
  },
  {
   "cell_type": "code",
   "execution_count": 211,
   "metadata": {},
   "outputs": [
    {
     "name": "stdout",
     "output_type": "stream",
     "text": [
      "31\n",
      "295\n",
      "Valid passports: 264\n",
      "Part 2 --------------------------------\n",
      "40\n"
     ]
    }
   ],
   "source": [
    "import re\n",
    "\n",
    "file = open(\"./input_day4\")\n",
    "lines4 = file.read().split('\\n')\n",
    "file.close()\n",
    "passports = []\n",
    "passport = ''\n",
    "list_of_required_fields = ['byr:', 'iyr:', 'eyr:', 'hgt:', 'hcl:', 'ecl:', 'pid:']\n",
    "\n",
    "for line in lines4:\n",
    "    if not line in ['']:\n",
    "        passport += ' '+ line\n",
    "    else:\n",
    "        passports.append(passport)\n",
    "        passport = ''\n",
    "    \n",
    "invalids = 0 \n",
    "first_invalids_passports =[]\n",
    "    \n",
    "for passport in passports:\n",
    "    for field in list_of_required_fields:\n",
    "        if not field in passport:\n",
    "            invalids += 1\n",
    "            first_invalids_passports.append(passport)\n",
    "            break\n",
    "\n",
    "print(invalids)\n",
    "print(len(passports))\n",
    "valids = (len(passports)-invalids)\n",
    "print(\"Valid passports: %i\" %valids)\n",
    "\n",
    "print(\"Part 2 --------------------------------\")\n",
    "\n",
    "for x in first_invalids_passports:\n",
    "    passports.remove(x)\n",
    "    \n",
    "    \n",
    "def validate_entries(passport):\n",
    "    for value in passport.split(' '):\n",
    "        if value.startswith('byr:'):\n",
    "            if 1920 <= int(value[4:]) <= 2002:\n",
    "                continue\n",
    "            else:\n",
    "                return(1)\n",
    "        if value.startswith('iyr:'):\n",
    "            if 2010 <= int(value[4:]) <= 2020:\n",
    "                continue\n",
    "            else:\n",
    "                return(1)\n",
    "        if value.startswith('eyr:'):\n",
    "            if 2020 <= int(value[4:]) <= 2030:\n",
    "                continue\n",
    "            else:\n",
    "                return(1)\n",
    "        if value.startswith('hgt:'):\n",
    "            if (value.endswith('cm') and 150 <= int(value[4:-2]) <= 193) or (\n",
    "                value.endswith('in') and 59 <= int(value[4:-2]) <= 79):\n",
    "                continue \n",
    "            else:\n",
    "                return(1)\n",
    "        if value.startswith('hcl:'):\n",
    "            if re.match('\\#[0-9,abcdef]{6}$', value[4:]):\n",
    "                continue\n",
    "            else:\n",
    "                return(1)\n",
    "        if value.startswith('ecl:'):\n",
    "            if value[4:] in ['amb', 'blu', 'brn', 'gry', 'grn', 'hzl', 'oth']:\n",
    "                continue\n",
    "            else:\n",
    "                return(1)\n",
    "        if value.startswith('pid:'):\n",
    "            if re.match('[0-9]{9}$', value[4:]):\n",
    "                continue\n",
    "            else:\n",
    "                return(1)\n",
    "    return(0)\n",
    "\n",
    "invalids = 0\n",
    "    \n",
    "testsi= [ 'eyr:1972 cid:100 hcl:#18171d ecl:amb hgt:170 pid:186cm iyr:2018 byr:1926',\n",
    "'iyr:2019 hcl:#602927 eyr:1967 hgt:170cm ecl:grn pid:012533040 byr:1946',\n",
    "'hcl:dab227 iyr:2012 ecl:brn hgt:182cm pid:021572410 eyr:2020 byr:1992 cid:277',\n",
    "'hgt:59cm ecl:zzz eyr:2038 hcl:74454a iyr:2023 pid:3556412378 byr:2007']\n",
    "\n",
    "testsv= ['pid:087499704 hgt:74in ecl:grn iyr:2012 eyr:2030 byr:1980 hcl:#623a2f',\n",
    "'eyr:2029 ecl:blu cid:129 byr:1989 iyr:2014 pid:896056539 hcl:#a97842 hgt:165cm',\n",
    "'hcl:#888785, hgt:164cm byr:2001 iyr:2015 cid:88 pid:545766238 ecl:hzl eyr:2022',\n",
    "'iyr:2010 hgt:158cm hcl:#b6652a ecl:blu byr:1944 eyr:2021 pid:093154719']\n",
    "\n",
    "for passport in passports:\n",
    "#    print([value for value in passport.split(' ')])\n",
    "#    print(validate_entries(passport))\n",
    "    invalids += validate_entries(passport)\n",
    "    \n",
    "print(invalids)\n"
   ]
  },
  {
   "cell_type": "markdown",
   "metadata": {},
   "source": [
    "## Day 5"
   ]
  },
  {
   "cell_type": "code",
   "execution_count": 306,
   "metadata": {},
   "outputs": [
    {
     "name": "stdout",
     "output_type": "stream",
     "text": [
      "[4, 5, 6, 7]\n",
      "970\n",
      "part 2 ----------------------------------------------\n",
      "587\n"
     ]
    }
   ],
   "source": [
    "file = open(\"./input_day5\")\n",
    "lines5 = file.read().split('\\n')\n",
    "lines5 = lines5[:-1]\n",
    "file.close()\n",
    "length_range = [i for i in range(0,128)]\n",
    "width_range = [i for i in range(0,8)]\n",
    "disc_dict = {\n",
    "    'F' : 0,\n",
    "    'B' : 1,\n",
    "    'L' : 0,\n",
    "    'R' : 1\n",
    "}\n",
    "\n",
    "def interval_halver(interval, discriminator):\n",
    "    if discriminator == 0:\n",
    "        return interval[:int(len(interval)/2)]\n",
    "    if discriminator == 1:\n",
    "        return interval[int(len(interval)/2):]\n",
    "    \n",
    "print(interval_halver(width_range,1))\n",
    "\n",
    "tests = [\n",
    "    'BFFFBBFRRR',\n",
    "    'FFFBBBFRRR',\n",
    "    'BBFFBBFRLL'\n",
    "]\n",
    "\n",
    "IDs = []\n",
    "\n",
    "for boarding_pass in lines5:\n",
    "    row = length_range\n",
    "    column = width_range\n",
    "    for char in boarding_pass[:7]:\n",
    "        row = interval_halver(row, disc_dict[char])\n",
    "    for char in boarding_pass[7:]:\n",
    "        column = interval_halver(column, disc_dict[char])    \n",
    "    IDs.append(row[0]*8+column[0])\n",
    "        \n",
    "    #print(\"Row: \", row[0], \"Column: \", column[0], \"ID: \", row[0]*8+column[0])\n",
    "\n",
    "print(max(IDs))\n",
    "\n",
    "print(\"part 2 ----------------------------------------------\")\n",
    "\n",
    "testIDs = [1,2,5,50,51,69,70,72,73,74]\n",
    "\n",
    "for ID in IDs:\n",
    "    if ((ID+2 in IDs) and not (ID+1 in IDs)):\n",
    "        print(ID+1)\n",
    "        \n",
    "        "
   ]
  },
  {
   "cell_type": "markdown",
   "metadata": {},
   "source": [
    "## Day 6"
   ]
  },
  {
   "cell_type": "code",
   "execution_count": 370,
   "metadata": {},
   "outputs": [
    {
     "name": "stdout",
     "output_type": "stream",
     "text": [
      "6903\n",
      "part2 -------------------------------------------\n",
      "3493\n"
     ]
    }
   ],
   "source": [
    "from string import ascii_lowercase\n",
    "\n",
    "file = open(\"./input_day6\")\n",
    "groups6 = file.read().split('\\n\\n')\n",
    "file.close()\n",
    "groupcount=0\n",
    "\n",
    "for group in groups6:\n",
    "    group.replace('\\n','')\n",
    "    for c in ascii_lowercase:\n",
    "        if group.count(c) > 0:\n",
    "            groupcount += 1\n",
    "            \n",
    "print(groupcount)\n",
    "print('part2 -------------------------------------------')\n",
    "groupcount=0\n",
    "\n",
    "groups6[-1] = groups6[-1][:-1]\n",
    "\n",
    "for group in groups6:\n",
    "    participants = 1 + group.count('\\n')\n",
    "    #print(participants)\n",
    "    group.replace('\\n','')\n",
    "    for c in ascii_lowercase:\n",
    "        if group.count(c) == participants:\n",
    "            groupcount += 1\n",
    "\n",
    "print(groupcount)\n"
   ]
  },
  {
   "cell_type": "code",
   "execution_count": null,
   "metadata": {},
   "outputs": [],
   "source": []
  }
 ],
 "metadata": {
  "kernelspec": {
   "display_name": "Python 3",
   "language": "python",
   "name": "python3"
  },
  "language_info": {
   "codemirror_mode": {
    "name": "ipython",
    "version": 3
   },
   "file_extension": ".py",
   "mimetype": "text/x-python",
   "name": "python",
   "nbconvert_exporter": "python",
   "pygments_lexer": "ipython3",
   "version": "3.7.6"
  }
 },
 "nbformat": 4,
 "nbformat_minor": 4
}
